{
 "cells": [
  {
   "cell_type": "markdown",
   "metadata": {},
   "source": [
    "# LAB 1: Probability Concepts, Indepdenece and Random Variables\n",
    "\n",
    "In this lab you will use python to study the following topics:\n",
    "\n",
    "- How to simulate random experiment outcomes using numpy arrays.\n",
    "- How to estimate the probability of an event using the relative frequency approach.\n",
    "- Simulate independent events.\n",
    "- Calculate arthemitic mean, sample variance, and sample standard deviation for a dataset.\n",
    "- Calculate covariance and correlation coeffecient of two random variables.\n"
   ]
  },
  {
   "cell_type": "markdown",
   "metadata": {},
   "source": [
    "# First: you should run this cell"
   ]
  },
  {
   "cell_type": "code",
   "execution_count": null,
   "metadata": {},
   "outputs": [],
   "source": [
    "## Name: Eslam Mohamed Mohamed\n",
    "## Lab1\n",
    "## Probability and Statistics\n",
    "## Date: 30/01/2022"
   ]
  },
  {
   "cell_type": "code",
   "execution_count": 2,
   "metadata": {},
   "outputs": [],
   "source": [
    "# Make all numpy available via shorter 'np' prefix\n",
    "import numpy as np\n",
    "\n",
    "# matplotlib library\n",
    "import matplotlib.pyplot as plt\n",
    "\n",
    "import pandas as pd"
   ]
  },
  {
   "cell_type": "markdown",
   "metadata": {},
   "source": [
    "# Problem 1\n",
    "\n",
    "Use numpy to simulate the vector outcomes for repeating the following random experiments $1000$ times and use the relative frequency to compute the probability of the corresponding events:\n",
    "    \n",
    "1. **Experiment:** Flipping a fair coin, **Event:** A head occurs.\n",
    "     \n",
    "Observe how changing the number of repetition affects the computed probabilities.\n",
    "\n",
    "**Hints:** \n",
    "- Use [numpy.random.randint](https://numpy.org/doc/stable/reference/random/generated/numpy.random.randint.html) or [numpy.random.choice](https://numpy.org/doc/stable/reference/random/generated/numpy.random.choice.html) to simulate the experiment.\n",
    "- Other useful functions [numpy.arange](https://numpy.org/doc/stable/reference/generated/numpy.arange.html), [numpy.cumsum](https://numpy.org/doc/stable/reference/generated/numpy.cumsum.html), [numpy.sum](https://numpy.org/doc/stable/reference/generated/numpy.sum.html), and [matplotlib.pyplot.plot](https://matplotlib.org/stable/api/_as_gen/matplotlib.pyplot.plot.html)"
   ]
  },
  {
   "cell_type": "code",
   "execution_count": 3,
   "metadata": {},
   "outputs": [
    {
     "name": "stdout",
     "output_type": "stream",
     "text": [
      "n = 10, P(e)= 0.7\n",
      "--------------------------------\n",
      "n = 50, P(e)= 0.6\n",
      "----------------------------------\n",
      "n = 100, P(e)= 0.5\n",
      "----------------------------------\n",
      "n = 500, P(e)= 0.484\n",
      "--------------------------------------\n",
      "n = 1000, P(e)= 0.508\n",
      "------------------------------------\n",
      "n = 5000, P(e)= 0.5048\n",
      "---------------------------------------\n",
      "n = 10000, P(e)= 0.4946\n",
      "--------------------------------\n",
      "n = 50000, P(e)= 0.50048\n",
      "---------------------------------\n",
      "n = 100000, P(e)= 0.49896\n"
     ]
    },
    {
     "data": {
      "image/png": "[encoded data removed]",
      "text/plain": [
       "<Figure size 432x288 with 1 Axes>"
      ]
     },
     "metadata": {
      "needs_background": "light"
     },
     "output_type": "display_data"
    }
   ],
   "source": [
    "#type your code here:\n",
    "n = 10\n",
    "x = np.random.randint(2,size = n)\n",
    "y = np.cumsum(x)\n",
    "z = np.arange(1,n+1)\n",
    "p = y/z\n",
    "print(f\"n = {n}, P(e)= {p[-1]}\")\n",
    "print(\"--------------------------------\")\n",
    "n = 50\n",
    "x = np.random.randint(2,size = n)\n",
    "y = np.cumsum(x)\n",
    "z = np.arange(1,n+1)\n",
    "p = y/z\n",
    "print(f\"n = {n}, P(e)= {p[-1]}\")\n",
    "print(\"----------------------------------\")\n",
    "n = 100\n",
    "x = np.random.randint(2,size = n)\n",
    "y = np.cumsum(x)\n",
    "z = np.arange(1,n+1)\n",
    "p = y/z\n",
    "print(f\"n = {n}, P(e)= {p[-1]}\")\n",
    "print(\"----------------------------------\")\n",
    "n = 500\n",
    "x = np.random.randint(2,size = n)\n",
    "y = np.cumsum(x)\n",
    "z = np.arange(1,n+1)\n",
    "p = y/z\n",
    "print(f\"n = {n}, P(e)= {p[-1]}\")\n",
    "print(\"--------------------------------------\")\n",
    "n = 1000\n",
    "x = np.random.randint(2,size = n)\n",
    "y = np.cumsum(x)\n",
    "z = np.arange(1,n+1)\n",
    "p = y/z\n",
    "print(f\"n = {n}, P(e)= {p[-1]}\")\n",
    "print(\"------------------------------------\")\n",
    "n = 5000\n",
    "x = np.random.randint(2,size = n)\n",
    "y = np.cumsum(x)\n",
    "z = np.arange(1,n+1)\n",
    "p = y/z\n",
    "print(f\"n = {n}, P(e)= {p[-1]}\")\n",
    "plt.plot(z, p)\n",
    "plt.grid()\n",
    "plt.axhline(y = 0.5, color = 'r', linestyle = '-')\n",
    "print(\"---------------------------------------\")\n",
    "n = 10000\n",
    "x = np.random.randint(2,size = n)\n",
    "y = np.cumsum(x)\n",
    "z = np.arange(1,n+1)\n",
    "p = y/z\n",
    "print(f\"n = {n}, P(e)= {p[-1]}\")\n",
    "print(\"--------------------------------\")\n",
    "n = 50000\n",
    "x = np.random.randint(2,size = n)\n",
    "y = np.cumsum(x)\n",
    "z = np.arange(1,n+1)\n",
    "p = y/z\n",
    "print(f\"n = {n}, P(e)= {p[-1]}\")\n",
    "print(\"---------------------------------\")\n",
    "n = 100000\n",
    "x = np.random.randint(2,size = n)\n",
    "y = np.cumsum(x)\n",
    "z = np.arange(1,n+1)\n",
    "p = y/z\n",
    "print(f\"n = {n}, P(e)= {p[-1]}\")"
   ]
  },
  {
   "cell_type": "markdown",
   "metadata": {},
   "source": [
    "2. **Experiment:** Rolling a fair die, **Event:** Number 5 occurs."
   ]
  },
  {
   "cell_type": "code",
   "execution_count": 7,
   "metadata": {},
   "outputs": [
    {
     "name": "stdout",
     "output_type": "stream",
     "text": [
      "n = 10, P(e)= 0.1\n",
      "----------------------\n",
      "n = 50, P(e)= 0.26\n",
      "------------------------\n",
      "n = 100, P(e)= 0.13\n",
      "----------------------------\n",
      "n = 500, P(e)= 0.18\n",
      "--------------------------------\n",
      "n = 1000, P(e)= 0.161\n",
      "--------------------------------\n",
      "n = 5000, P(e)= 0.1696\n",
      "----------------------------------\n",
      "n = 10000, P(e)= 0.1667\n",
      "-----------------------\n",
      "n = 50000, P(e)= 0.1668\n"
     ]
    },
    {
     "data": {
      "image/png": "[encoded data removed]",
      "text/plain": [
       "<Figure size 432x288 with 1 Axes>"
      ]
     },
     "metadata": {
      "needs_background": "light"
     },
     "output_type": "display_data"
    }
   ],
   "source": [
    "#type your code here:\n",
    "n = 10\n",
    "x = np.random.randint(1,7,size = n)\n",
    "y = np.cumsum(x==5)\n",
    "z = np.arange(1,n+1)\n",
    "p = y/z\n",
    "print(f\"n = {n}, P(e)= {p[-1]}\")\n",
    "print(f\"----------------------\")\n",
    "n = 50\n",
    "x = np.random.randint(1,7,size = n)\n",
    "y = np.cumsum(x==5)\n",
    "z = np.arange(1,n+1)\n",
    "p = y/z\n",
    "print(f\"n = {n}, P(e)= {p[-1]}\")\n",
    "print(\"------------------------\")\n",
    "n = 100\n",
    "x = np.random.randint(1,7,size = n)\n",
    "y = np.cumsum(x==5)\n",
    "z = np.arange(1,n+1)\n",
    "p = y/z\n",
    "print(f\"n = {n}, P(e)= {p[-1]}\")\n",
    "print(\"----------------------------\")\n",
    "n = 500\n",
    "x = np.random.randint(1,7,size = n)\n",
    "y = np.cumsum(x==5)\n",
    "z = np.arange(1,n+1)\n",
    "p = y/z\n",
    "print(f\"n = {n}, P(e)= {p[-1]}\")\n",
    "print(\"--------------------------------\")\n",
    "n = 1000\n",
    "x = np.random.randint(1,7,size = n)\n",
    "y = np.cumsum(x==5)\n",
    "z = np.arange(1,n+1)\n",
    "p = y/z\n",
    "print(f\"n = {n}, P(e)= {p[-1]}\")\n",
    "print(\"--------------------------------\")\n",
    "n = 5000\n",
    "x = np.random.randint(1,7,size = n)\n",
    "y = np.cumsum(x==5)\n",
    "z = np.arange(1,n+1)\n",
    "p = y/z\n",
    "print(f\"n = {n}, P(e)= {p[-1]}\")\n",
    "plt.plot(z, p)\n",
    "plt.grid()\n",
    "plt.axhline(y = 0.1667, color = 'r', linestyle = '-')\n",
    "print(\"----------------------------------\")\n",
    "n = 10000\n",
    "x = np.random.randint(1,7,size = n)\n",
    "y = np.cumsum(x==5)\n",
    "z = np.arange(1,n+1)\n",
    "p = y/z\n",
    "print(f\"n = {n}, P(e)= {p[-1]}\")\n",
    "print(\"-----------------------\")\n",
    "n = 50000\n",
    "x = np.random.randint(1,7,size = n)\n",
    "y = np.cumsum(x==5)\n",
    "z = np.arange(1,n+1)\n",
    "p = y/z\n",
    "print(f\"n = {n}, P(e)= {p[-1]}\")"
   ]
  },
  {
   "cell_type": "markdown",
   "metadata": {},
   "source": [
    "3. **Experiment:** Rolling a fair die, **Event:** A number greater than 3 occurs."
   ]
  },
  {
   "cell_type": "code",
   "execution_count": 10,
   "metadata": {},
   "outputs": [
    {
     "name": "stdout",
     "output_type": "stream",
     "text": [
      "n = 10, P(e)= 0.7\n",
      "----------------------------\n",
      "n = 50, P(e)= 0.62\n",
      "----------------------------\n",
      "n = 500, P(e)= 0.48\n",
      "----------------------------\n",
      "n = 1000, P(e)= 0.518\n",
      "----------------------------\n",
      "n = 5000, P(e)= 0.5\n",
      "----------------------------\n",
      "n = 10000, P(e)= 0.495\n",
      "----------------------------\n",
      "n = 50000, P(e)= 0.49742\n",
      "----------------------------\n",
      "n = 100000, P(e)= 0.50007\n",
      "----------------------------\n"
     ]
    },
    {
     "data": {
      "image/png": "[encoded data removed]",
      "text/plain": [
       "<Figure size 432x288 with 1 Axes>"
      ]
     },
     "metadata": {
      "needs_background": "light"
     },
     "output_type": "display_data"
    }
   ],
   "source": [
    "#type your code here:\n",
    "\n",
    "n_list = [10,50,500,1000,5000,10000,50000,100000]\n",
    "for n in n_list:\n",
    "    if n == 10000:\n",
    "        plt.plot(z, p)\n",
    "        plt.grid()\n",
    "        plt.axhline(y = 0.5, color = 'r', linestyle = '-')\n",
    "    x = np.random.randint(1,7,size = n)\n",
    "    y = np.cumsum(x>3)\n",
    "    z = np.arange(1,n+1)\n",
    "    p = y/z\n",
    "    print(f\"n = {n}, P(e)= {p[-1]}\")\n",
    "    print(\"----------------------------\")"
   ]
  },
  {
   "cell_type": "markdown",
   "metadata": {},
   "source": [
    "4. **Experiment:** Rolling two fair dice, **Event:** Sum of two dice equal 5."
   ]
  },
  {
   "cell_type": "code",
   "execution_count": 12,
   "metadata": {},
   "outputs": [
    {
     "name": "stdout",
     "output_type": "stream",
     "text": [
      "n = 10, P(e)= 0.0\n",
      "----------------------------\n",
      "n = 50, P(e)= 0.16\n",
      "----------------------------\n",
      "n = 500, P(e)= 0.096\n",
      "----------------------------\n",
      "n = 1000, P(e)= 0.115\n",
      "----------------------------\n",
      "n = 5000, P(e)= 0.1068\n",
      "----------------------------\n",
      "n = 10000, P(e)= 0.1126\n",
      "----------------------------\n",
      "n = 50000, P(e)= 0.11128\n",
      "----------------------------\n",
      "n = 100000, P(e)= 0.11058\n",
      "----------------------------\n"
     ]
    },
    {
     "data": {
      "image/png": "[encoded data removed]",
      "text/plain": [
       "<Figure size 432x288 with 1 Axes>"
      ]
     },
     "metadata": {
      "needs_background": "light"
     },
     "output_type": "display_data"
    }
   ],
   "source": [
    "#type your code here:\n",
    "n_list = [10,50,500,1000,5000,10000,50000,100000]\n",
    "for n in n_list:\n",
    "    if n == 5000:\n",
    "        plt.plot(z, p)\n",
    "        plt.grid()\n",
    "        plt.axhline(y = 0.111, color = 'r', linestyle = '-')\n",
    "    x1 = np.random.randint(1,7,size = n)\n",
    "    x2 = np.random.randint(1,7,size = n)\n",
    "\n",
    "    y = np.cumsum(x1+x2==5)\n",
    "    z = np.arange(1,n+1)\n",
    "    p = y/z\n",
    "    print(f\"n = {n}, P(e)= {p[-1]}\")\n",
    "    print(\"----------------------------\")"
   ]
  },
  {
   "cell_type": "markdown",
   "metadata": {},
   "source": [
    "# Problem 2\n",
    "\n",
    "Simulate the experiment of tossing $1000$ times a coin with probability of **head (coded as $1$) equal to $0.4$** and probability of **tail (coded as $0$) equal to $0.6$**. How can you check if the simulation of the experiment of been running as expected.\n",
    "\n",
    "**Hint**: Use [matplotlib.pyplot.hist¶\n",
    "](https://matplotlib.org/stable/api/_as_gen/matplotlib.pyplot.hist.html)"
   ]
  },
  {
   "cell_type": "code",
   "execution_count": 13,
   "metadata": {},
   "outputs": [
    {
     "data": {
      "image/png": "[encoded data removed]",
      "text/plain": [
       "<Figure size 432x288 with 1 Axes>"
      ]
     },
     "metadata": {
      "needs_background": "light"
     },
     "output_type": "display_data"
    }
   ],
   "source": [
    "#type your code here:\n",
    "n = 1000\n",
    "x = np.random.choice(2,size = n , p=[0.6, 0.4])\n",
    "plt.hist(x,histtype='bar')\n",
    "plt.grid()"
   ]
  },
  {
   "cell_type": "markdown",
   "metadata": {},
   "source": [
    "# Problem 3: Independence\n",
    "\n",
    "Use NumPy to create simulations and compute **empirical  probability** for the following outcomes. Compare the results with the **theoretical probability**.\n",
    "\n",
    "1. Two fair coin flips produce exactly two heads"
   ]
  },
  {
   "cell_type": "code",
   "execution_count": 23,
   "metadata": {},
   "outputs": [
    {
     "name": "stdout",
     "output_type": "stream",
     "text": [
      "0.250644\n"
     ]
    }
   ],
   "source": [
    "#type your code here:\n",
    "\n",
    "# simulate 1 million tests of two fair coin flips\n",
    "n = 1000000\n",
    "x = np.random.randint(2,size = (n,2))\n",
    "# sums of all tests\n",
    "\n",
    "y= np.sum(x,axis=1,keepdims=True)\n",
    "# proportion of tests that produced exactly two heads\n",
    "p = (np.sum(y==2))/n\n",
    "print(p)"
   ]
  },
  {
   "cell_type": "markdown",
   "metadata": {},
   "source": [
    "2. Three fair coin flips produce exactly one head"
   ]
  },
  {
   "cell_type": "code",
   "execution_count": 26,
   "metadata": {},
   "outputs": [
    {
     "name": "stdout",
     "output_type": "stream",
     "text": [
      "0.375204\n"
     ]
    }
   ],
   "source": [
    "#type your code here:\n",
    "\n",
    "# simulate 1 million tests of two fair coin flips\n",
    "n = 1000000\n",
    "x = np.random.randint(2,size = (n,3))\n",
    "# sums of all tests\n",
    "\n",
    "y= np.sum(x,axis=1,keepdims=True)\n",
    "# proportion of tests that produced exactly two heads\n",
    "p = (np.sum(y==1))/n\n",
    "print(p)\n",
    "\n"
   ]
  },
  {
   "cell_type": "markdown",
   "metadata": {},
   "source": [
    "3. Three biased coin flips with P(H) = 0.6 produce exactly one head"
   ]
  },
  {
   "cell_type": "code",
   "execution_count": 31,
   "metadata": {},
   "outputs": [
    {
     "name": "stdout",
     "output_type": "stream",
     "text": [
      "0.287718\n"
     ]
    }
   ],
   "source": [
    "#type your code here:\n",
    "\n",
    "\n",
    "# simulate 1 million tests of three biased coin flips\n",
    "# hint: use np.random.choice()\n",
    "x = np.random.choice(2,size=(n,3),p=[0.4,0.6])\n",
    "\n",
    "# sums of all tests\n",
    "y= np.sum(x,axis=1,keepdims=True)\n",
    "\n",
    "# proportion of tests that produced exactly one head\n",
    "p = (np.sum(y==1))/n\n",
    "print(p)"
   ]
  },
  {
   "cell_type": "markdown",
   "metadata": {},
   "source": [
    "# Problem 4:Random Variables Statistical Tools\n",
    "Simulate Rolling a fair die $1000$ times. Then calculate the following:\n",
    "\n",
    "- Sample mean\n",
    "- Sample variance\n",
    "- Sample standard deviation\n",
    "\n",
    "Compare the results with the theoretical probability."
   ]
  },
  {
   "cell_type": "code",
   "execution_count": 42,
   "metadata": {},
   "outputs": [
    {
     "name": "stdout",
     "output_type": "stream",
     "text": [
      "Sample mean: 3.512\n",
      "Sample variance: 2.959856\n",
      "Sample standard deviation: 1.720423203749589\n",
      "3.512\n",
      "2.959856\n",
      "1.720423203749589\n"
     ]
    }
   ],
   "source": [
    "#type your code here:\n",
    "n = 1000\n",
    "x = np.random.randint(1,7,size=n)\n",
    "mean = (np.sum(x))/n\n",
    "print(f\"Sample mean: {mean}\")\n",
    "variance = np.sum((x - mean)**2)/n\n",
    "print(f\"Sample variance: {variance}\")\n",
    "std_dev = variance ** 0.5\n",
    "print(f\"Sample standard deviation: {std_dev}\")\n",
    "\n",
    "print(np.mean(x))\n",
    "print(np.var(x))\n",
    "print(np.std(x))"
   ]
  },
  {
   "cell_type": "markdown",
   "metadata": {},
   "source": [
    "# Problem 5: Correlation and Covariance\n",
    "\n",
    "The CSV file includes a hourly/daily summary for Szeged, Hungary area, between 2006 and 2016. After inspecting the data:\n",
    "\n",
    "- Calculate the covariance and correlation coeffecient between temperature and apparent temperature\n",
    "- Calculate the covariance and correlation coeffecient between temperature and humidity"
   ]
  },
  {
   "cell_type": "code",
   "execution_count": 43,
   "metadata": {},
   "outputs": [],
   "source": [
    "df = pd.read_csv('weatherHistory.csv')\n",
    "temperature = df['Temperature (C)'].to_numpy().reshape(-1, 1)\n",
    "apparant_temp = df['Apparent Temperature (C)'].to_numpy().reshape(-1, 1)\n",
    "humidity = df['Humidity'].to_numpy().reshape(-1, 1)"
   ]
  },
  {
   "cell_type": "code",
   "execution_count": 44,
   "metadata": {},
   "outputs": [
    {
     "data": {
      "text/plain": [
       "Text(0, 0.5, 'Apparent Temperature (C)')"
      ]
     },
     "execution_count": 44,
     "metadata": {},
     "output_type": "execute_result"
    },
    {
     "data": {
      "image/png": "[encoded data removed]",
      "text/plain": [
       "<Figure size 432x288 with 1 Axes>"
      ]
     },
     "metadata": {
      "needs_background": "light"
     },
     "output_type": "display_data"
    }
   ],
   "source": [
    "plt.scatter(temperature, apparant_temp)\n",
    "plt.grid()\n",
    "plt.xlabel('Temperature (C)')\n",
    "plt.ylabel('Apparent Temperature (C)')"
   ]
  },
  {
   "cell_type": "code",
   "execution_count": 13,
   "metadata": {},
   "outputs": [
    {
     "data": {
      "text/plain": [
       "Text(0, 0.5, 'Temperature (C)')"
      ]
     },
     "execution_count": 13,
     "metadata": {},
     "output_type": "execute_result"
    },
    {
     "data": {
      "image/png": "[encoded data removed]",
      "text/plain": [
       "<Figure size 432x288 with 1 Axes>"
      ]
     },
     "metadata": {
      "needs_background": "light"
     },
     "output_type": "display_data"
    }
   ],
   "source": [
    "plt.scatter(humidity, temperature)\n",
    "plt.grid()\n",
    "plt.xlabel('Humidity')\n",
    "plt.ylabel('Temperature (C)')"
   ]
  },
  {
   "cell_type": "markdown",
   "metadata": {},
   "source": [
    "## Temperature and Apparent Temperature"
   ]
  },
  {
   "cell_type": "code",
   "execution_count": 67,
   "metadata": {},
   "outputs": [
    {
     "name": "stdout",
     "output_type": "stream",
     "text": [
      "Covariance: [[101.41723171]]\n",
      "-----------------------\n",
      "np.cov():\n",
      "[[ 91.23203712 101.41828319]\n",
      " [101.41828319 114.42254413]]\n",
      "----------------------------\n",
      "Correlation Cof: [[0.99262856]]\n",
      "----------------------------\n",
      "np.corrcoef(): \n",
      "[[1.         0.99262856]\n",
      " [0.99262856 1.        ]]\n"
     ]
    }
   ],
   "source": [
    "#type your code here:\n",
    "temperature_mean = np.mean(temperature)\n",
    "apparant_mean = np.mean(apparant_temp)\n",
    "\n",
    "temperature_temporary = temperature - temperature_mean\n",
    "apparant_temporary = apparant_temp - apparant_mean\n",
    "\n",
    "covariance = (temperature_temporary.T @ apparant_temporary)/ temperature.shape[0]\n",
    "print(f\"Covariance: {covariance}\")\n",
    "print(\"-----------------------\")\n",
    "x = np.block([temperature,apparant_temp]).T\n",
    "print(f\"np.cov():\\n{np.cov(x)}\")\n",
    "\n",
    "print(\"----------------------------\")\n",
    "correlation = covariance/(np.std(temperature) * np.std(apparant_temp))\n",
    "print(f\"Correlation Cof: {correlation}\")\n",
    "print(\"----------------------------\")\n",
    "print(f\"np.corrcoef(): \\n{np.corrcoef(temperature.T,apparant_temp.T)}\")"
   ]
  },
  {
   "cell_type": "markdown",
   "metadata": {},
   "source": [
    "## Temperature and Humidity"
   ]
  },
  {
   "cell_type": "code",
   "execution_count": 75,
   "metadata": {},
   "outputs": [
    {
     "name": "stdout",
     "output_type": "stream",
     "text": [
      "Covariance: [[-1.18044955]]\n",
      "-----------------------\n",
      "np.cov():\n",
      "[[ 9.12320371e+01 -1.18046179e+00]\n",
      " [-1.18046179e+00  3.82095917e-02]]\n",
      "----------------------------\n",
      "Correlation Cof: [[-0.63225468]]\n",
      "----------------------------\n",
      "np.corrcoef(): \n",
      "[[ 1.         -0.63225468]\n",
      " [-0.63225468  1.        ]]\n"
     ]
    }
   ],
   "source": [
    "#type your code here:\n",
    "temperature_mean = np.mean(temperature)\n",
    "humidity_mean = np.mean(humidity)\n",
    "\n",
    "temperature_temporary = temperature - temperature_mean\n",
    "humidity_temporary = humidity - humidity_mean\n",
    "\n",
    "covariance = (temperature_temporary.T @ humidity_temporary )/ temperature.shape[0]\n",
    "print(f\"Covariance: {covariance}\")\n",
    "print(\"-----------------------\")\n",
    "x = np.block([temperature,humidity]).T\n",
    "print(f\"np.cov():\\n{np.cov(x)}\")\n",
    "\n",
    "print(\"----------------------------\")\n",
    "correlation = covariance/(np.std(temperature) * np.std(humidity))\n",
    "print(f\"Correlation Cof: {correlation}\")\n",
    "print(\"----------------------------\")\n",
    "print(f\"np.corrcoef(): \\n{np.corrcoef(temperature.T,humidity.T)}\")"
   ]
  }
 ],
 "metadata": {
  "kernelspec": {
   "display_name": "Python 3 (ipykernel)",
   "language": "python",
   "name": "python3"
  },
  "language_info": {
   "codemirror_mode": {
    "name": "ipython",
    "version": 3
   },
   "file_extension": ".py",
   "mimetype": "text/x-python",
   "name": "python",
   "nbconvert_exporter": "python",
   "pygments_lexer": "ipython3",
   "version": "3.8.12"
  }
 },
 "nbformat": 4,
 "nbformat_minor": 4
}
